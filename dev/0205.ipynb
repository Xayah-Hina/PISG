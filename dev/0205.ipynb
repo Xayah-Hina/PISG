{
 "cells": [
  {
   "metadata": {
    "ExecuteTime": {
     "end_time": "2025-02-05T13:51:49.875213Z",
     "start_time": "2025-02-05T13:51:47.149667Z"
    }
   },
   "cell_type": "code",
   "source": "from hyfluid import *",
   "id": "71838d4512d7725",
   "outputs": [],
   "execution_count": 1
  },
  {
   "metadata": {
    "ExecuteTime": {
     "end_time": "2025-02-05T13:52:02.708821Z",
     "start_time": "2025-02-05T13:51:49.884728Z"
    }
   },
   "cell_type": "code",
   "source": [
    "from dataloaders.dataloader_hyfluid import VideoInfos, CameraInfos, hyfluid_video_infos, hyfluid_camera_infos_list, \\\n",
    "    load_videos_data_device\n",
    "from utils.utils_nerf import generate_rays_device, resample_images_torch\n",
    "\n",
    "hyfluid_video_infos.root_dir = \"../data/hyfluid\"\n",
    "device = torch.device(\"cuda\")\n",
    "dtype_device = torch.float16\n",
    "train_video_data_device = load_videos_data_device(hyfluid_video_infos, dataset_type=\"train\", device=device, dtype=dtype_device)\n",
    "width, height = train_video_data_device.shape[3], train_video_data_device.shape[2]\n",
    "\n",
    "# 2. load poses\n",
    "train_indices = [0, 1, 2, 3]\n",
    "train_poses_device = torch.tensor([hyfluid_camera_infos_list[i].transform_matrices for i in train_indices], device=device, dtype=dtype_device)  # (#cameras, 4, 4)\n",
    "\n",
    "# 3. pre-sample rays\n",
    "focals_device = torch.tensor([0.5 * width / torch.tan(0.5 * torch.tensor(hyfluid_camera_infos_list[i].camera_angle_x[0], dtype=dtype_device)) for i in train_indices], device=device, dtype=dtype_device)  # (#cameras)\n",
    "rays_origin_device, rays_direction_device, u_device, v_device = generate_rays_device(train_poses_device, focals=focals_device, width=width, height=height, randomize=True)\n",
    "\n",
    "# 4. resample images\n",
    "train_video_resampled_device = resample_images_torch(train_video_data_device, u_device, v_device)  # (#videos, #frames, H, W, C)"
   ],
   "id": "2b57c77dbfd9d5b8",
   "outputs": [],
   "execution_count": 2
  },
  {
   "metadata": {
    "ExecuteTime": {
     "end_time": "2025-02-05T13:52:04.886902Z",
     "start_time": "2025-02-05T13:52:04.883315Z"
    }
   },
   "cell_type": "code",
   "source": "print(f'train_video_data_device.shape: {train_video_data_device.shape}')",
   "id": "8e6cccc7c3cea87d",
   "outputs": [
    {
     "name": "stdout",
     "output_type": "stream",
     "text": [
      "train_video_data_device.shape: torch.Size([4, 120, 1920, 1080, 3])\n"
     ]
    }
   ],
   "execution_count": 3
  },
  {
   "metadata": {
    "ExecuteTime": {
     "end_time": "2025-02-05T13:52:05.389600Z",
     "start_time": "2025-02-05T13:52:05.079454Z"
    }
   },
   "cell_type": "code",
   "source": [
    "import matplotlib.pyplot as plt\n",
    "\n",
    "# 选择相机索引和帧索引\n",
    "camera_idx = 0  # 选择第0个相机\n",
    "frame_idx = 10  # 选择第10帧\n",
    "\n",
    "# 提取帧数据并转换到 CPU (如果在 CUDA 上)\n",
    "frame1 = train_video_data_device[camera_idx, frame_idx].cpu().to(dtype=torch.float32).numpy()  # (1920, 1080, 3)\n",
    "frame2 = train_video_resampled_device[camera_idx, frame_idx].cpu().to(dtype=torch.float32).numpy()  # (1920, 1080, 3)\n",
    "\n",
    "# 归一化数据（如果数据是 0-255 范围，则转换为 0-1 ）\n",
    "if frame1.max() > 1:\n",
    "    frame1 = frame1 / 255.0\n",
    "if frame2.max() > 1:\n",
    "    frame2 = frame2 / 255.0"
   ],
   "id": "7e3ef5d896a62da",
   "outputs": [],
   "execution_count": 4
  },
  {
   "metadata": {
    "ExecuteTime": {
     "end_time": "2025-02-05T13:52:05.724289Z",
     "start_time": "2025-02-05T13:52:05.571380Z"
    }
   },
   "cell_type": "code",
   "source": [
    "# 可视化\n",
    "plt.imshow(frame1)\n",
    "plt.axis(\"off\")  # 隐藏坐标轴\n",
    "plt.show()"
   ],
   "id": "ab64cc4c079dc9fe",
   "outputs": [
    {
     "data": {
      "text/plain": [
       "<Figure size 640x480 with 1 Axes>"
      ],
      "image/png": "[encoded data removed]"
     },
     "metadata": {},
     "output_type": "display_data"
    }
   ],
   "execution_count": 5
  },
  {
   "metadata": {
    "ExecuteTime": {
     "end_time": "2025-02-05T13:52:06.047018Z",
     "start_time": "2025-02-05T13:52:05.921288Z"
    }
   },
   "cell_type": "code",
   "source": [
    "# 可视化\n",
    "plt.imshow(frame2)\n",
    "plt.axis(\"off\")  # 隐藏坐标轴\n",
    "plt.show()"
   ],
   "id": "7563325c518dbbf9",
   "outputs": [
    {
     "data": {
      "text/plain": [
       "<Figure size 640x480 with 1 Axes>"
      ],
      "image/png": "[encoded data removed]"
     },
     "metadata": {},
     "output_type": "display_data"
    }
   ],
   "execution_count": 6
  }
 ],
 "metadata": {
  "kernelspec": {
   "display_name": "Python 3",
   "language": "python",
   "name": "python3"
  },
  "language_info": {
   "codemirror_mode": {
    "name": "ipython",
    "version": 2
   },
   "file_extension": ".py",
   "mimetype": "text/x-python",
   "name": "python",
   "nbconvert_exporter": "python",
   "pygments_lexer": "ipython2",
   "version": "2.7.6"
  }
 },
 "nbformat": 4,
 "nbformat_minor": 5
}
