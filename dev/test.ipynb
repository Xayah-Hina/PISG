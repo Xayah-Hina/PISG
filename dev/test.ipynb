{
 "cells": [
  {
   "metadata": {
    "ExecuteTime": {
     "end_time": "2025-02-16T06:57:08.949965Z",
     "start_time": "2025-02-16T06:57:08.899397Z"
    }
   },
   "cell_type": "code",
   "source": [
    "import torch\n",
    "import numpy as np\n",
    "from pathlib import Path"
   ],
   "id": "2d44906ade012bdb",
   "outputs": [],
   "execution_count": 12
  },
  {
   "metadata": {
    "ExecuteTime": {
     "end_time": "2025-02-16T06:57:20.694366Z",
     "start_time": "2025-02-16T06:57:09.587343Z"
    }
   },
   "cell_type": "code",
   "source": [
    "from dataloaders.dataloader_hyfluid import (\n",
    "    VideoInfos,\n",
    "    load_videos_data_device,\n",
    ")\n",
    "infos = VideoInfos(\n",
    "    root_dir=Path(\"../data/PISG/scene1\"),\n",
    "    train_videos=[Path(\"back.mp4\"), Path(\"front.mp4\"), Path(\"right.mp4\"), Path(\"top.mp4\")],\n",
    "    validation_videos=[],\n",
    "    test_videos=[],\n",
    ")\n",
    "train_video_data_device = load_videos_data_device(infos, dataset_type=\"train\", device=torch.device(\"cpu\"), dtype=torch.float32)"
   ],
   "id": "3bf2d8d97dfceb53",
   "outputs": [],
   "execution_count": 13
  },
  {
   "metadata": {
    "ExecuteTime": {
     "end_time": "2025-02-16T06:58:19.551407Z",
     "start_time": "2025-02-16T06:58:19.543918Z"
    }
   },
   "cell_type": "code",
   "source": "train_video_data_device.shape",
   "id": "9be99d0d87be6c94",
   "outputs": [
    {
     "data": {
      "text/plain": [
       "torch.Size([4, 120, 1920, 1080, 3])"
      ]
     },
     "execution_count": 14,
     "metadata": {},
     "output_type": "execute_result"
    }
   ],
   "execution_count": 14
  },
  {
   "metadata": {
    "ExecuteTime": {
     "end_time": "2025-02-16T06:59:07.015474Z",
     "start_time": "2025-02-16T06:59:06.782859Z"
    }
   },
   "cell_type": "code",
   "source": [
    "from matplotlib import pyplot as plt\n",
    "plt.imshow(train_video_data_device[2, 100])"
   ],
   "id": "7cc9ef48187ca4bc",
   "outputs": [
    {
     "data": {
      "text/plain": [
       "<matplotlib.image.AxesImage at 0x2c581c172d0>"
      ]
     },
     "execution_count": 21,
     "metadata": {},
     "output_type": "execute_result"
    },
    {
     "data": {
      "text/plain": [
       "<Figure size 640x480 with 1 Axes>"
      ],
      "image/png": "[encoded data removed]"
     },
     "metadata": {},
     "output_type": "display_data"
    }
   ],
   "execution_count": 21
  },
  {
   "cell_type": "code",
   "id": "initial_id",
   "metadata": {
    "collapsed": true,
    "ExecuteTime": {
     "end_time": "2025-02-16T03:42:53.246102Z",
     "start_time": "2025-02-16T03:42:53.239405Z"
    }
   },
   "source": [
    "# 3. load poses\n",
    "camera_infos_path = [\n",
    "    Path(\"cam_back.npz\"),\n",
    "    Path(\"cam_front.npz\"),\n",
    "    Path(\"cam_right.npz\"),\n",
    "    Path(\"cam_top.npz\"),\n",
    "]\n",
    "camera_infos = [np.load(Path(\"../data/PISG/scene1\") / path) for path in camera_infos_path]\n",
    "cam_transforms = [torch.tensor(info[\"cam_transform\"], dtype=torch.float32) for info in camera_infos]\n",
    "train_poses_device = torch.stack(cam_transforms)"
   ],
   "outputs": [],
   "execution_count": 3
  },
  {
   "metadata": {
    "ExecuteTime": {
     "end_time": "2025-02-16T03:42:53.256912Z",
     "start_time": "2025-02-16T03:42:53.247850Z"
    }
   },
   "cell_type": "code",
   "source": "train_poses_device",
   "id": "ee2c6830ac79d61a",
   "outputs": [
    {
     "data": {
      "text/plain": [
       "tensor([[[-5.3514e-01,  4.1225e-02, -8.4376e-01, -1.1857e+01],\n",
       "         [ 7.2038e-08,  9.9881e-01,  4.8800e-02,  8.0337e+00],\n",
       "         [ 8.4477e-01,  2.6115e-02, -5.3450e-01, -9.7147e+00],\n",
       "         [ 0.0000e+00,  0.0000e+00,  0.0000e+00,  1.0000e+00]],\n",
       "\n",
       "        [[ 9.9891e-01, -2.2030e-03, -4.6677e-02, -1.7700e-01],\n",
       "         [ 1.4696e-08,  9.9889e-01, -4.7144e-02,  5.9473e+00],\n",
       "         [ 4.6729e-02,  4.7092e-02,  9.9780e-01,  1.4836e+01],\n",
       "         [ 0.0000e+00,  0.0000e+00,  0.0000e+00,  1.0000e+00]],\n",
       "\n",
       "        [[-2.2557e-02,  5.9413e-02,  9.9798e-01,  1.6746e+01],\n",
       "         [ 1.3996e-09,  9.9823e-01, -5.9428e-02,  6.3424e+00],\n",
       "         [-9.9975e-01, -1.3405e-03, -2.2517e-02, -1.1578e+00],\n",
       "         [ 0.0000e+00,  0.0000e+00,  0.0000e+00,  1.0000e+00]],\n",
       "\n",
       "        [[ 6.1807e-01, -3.8503e-01,  6.8537e-01,  1.2031e+01],\n",
       "         [ 7.1458e-09,  8.7184e-01,  4.8979e-01,  1.3291e+01],\n",
       "         [-7.8612e-01, -3.0273e-01,  5.3886e-01,  7.7081e+00],\n",
       "         [ 0.0000e+00,  0.0000e+00,  0.0000e+00,  1.0000e+00]]])"
      ]
     },
     "execution_count": 4,
     "metadata": {},
     "output_type": "execute_result"
    }
   ],
   "execution_count": 4
  },
  {
   "metadata": {
    "ExecuteTime": {
     "end_time": "2025-02-16T03:43:02.145450Z",
     "start_time": "2025-02-16T03:43:02.137760Z"
    }
   },
   "cell_type": "code",
   "source": "camera_infos[0].files",
   "id": "3ea327bb84fc433",
   "outputs": [
    {
     "data": {
      "text/plain": [
       "['cam_transform',\n",
       " 'focal',\n",
       " 'aperture',\n",
       " 'vertical_aperture',\n",
       " 'near_clip',\n",
       " 'far_clip']"
      ]
     },
     "execution_count": 5,
     "metadata": {},
     "output_type": "execute_result"
    }
   ],
   "execution_count": 5
  },
  {
   "metadata": {
    "ExecuteTime": {
     "end_time": "2025-02-16T03:47:01.241090Z",
     "start_time": "2025-02-16T03:47:01.235552Z"
    }
   },
   "cell_type": "code",
   "source": [
    "width = 1080\n",
    "\n",
    "focal_pixels = torch.tensor(\n",
    "    [info[\"focal\"] * width / info[\"aperture\"] for info in camera_infos],\n",
    "    dtype=torch.float32\n",
    ")\n",
    "focal_pixels"
   ],
   "id": "5264a03a20665213",
   "outputs": [
    {
     "data": {
      "text/plain": [
       "tensor([1303.6753, 1303.6753, 1303.6753, 1303.6753])"
      ]
     },
     "execution_count": 8,
     "metadata": {},
     "output_type": "execute_result"
    }
   ],
   "execution_count": 8
  },
  {
   "metadata": {
    "ExecuteTime": {
     "end_time": "2025-02-16T03:54:58.347074Z",
     "start_time": "2025-02-16T03:54:58.340690Z"
    }
   },
   "cell_type": "code",
   "source": [
    "print([info[\"near_clip\"] for info in camera_infos])\n",
    "print([info[\"far_clip\"] for info in camera_infos])"
   ],
   "id": "85eb5eae7c41942c",
   "outputs": [
    {
     "name": "stdout",
     "output_type": "stream",
     "text": [
      "[array(10.), array(10.), array(10.), array(10.)]\n",
      "[array(21.6), array(21.6), array(21.6), array(21.6)]\n"
     ]
    }
   ],
   "execution_count": 11
  }
 ],
 "metadata": {
  "kernelspec": {
   "display_name": "Python 3",
   "language": "python",
   "name": "python3"
  },
  "language_info": {
   "codemirror_mode": {
    "name": "ipython",
    "version": 2
   },
   "file_extension": ".py",
   "mimetype": "text/x-python",
   "name": "python",
   "nbconvert_exporter": "python",
   "pygments_lexer": "ipython2",
   "version": "2.7.6"
  }
 },
 "nbformat": 4,
 "nbformat_minor": 5
}
